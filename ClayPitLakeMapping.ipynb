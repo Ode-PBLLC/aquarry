{
 "cells": [
  {
   "cell_type": "code",
   "execution_count": 17,
   "metadata": {},
   "outputs": [],
   "source": [
    "import warnings\n",
    "\n",
    "import geoarrow.pyarrow as ga\n",
    "import numpy as np\n",
    "import pyarrow as pa\n",
    "import pyarrow.parquet as pq\n",
    "import pystac_client\n",
    "import requests\n",
    "import torch\n",
    "import yaml\n",
    "from box import Box\n",
    "\n",
    "from torchvision.transforms import v2\n",
    "\n",
    "import geopandas as gpd\n",
    "import pandas as pd\n",
    "\n",
    "from shapely.geometry import Polygon\n",
    "import matplotlib.pyplot as plt\n",
    "\n",
    "import math\n",
    "import os\n",
    "import random\n",
    "\n",
    "import timm\n",
    "import torch\n",
    "import torch.nn.functional as F\n",
    "from einops import rearrange, reduce, repeat\n",
    "from torch import nn\n",
    "from torchvision.transforms import v2\n",
    "\n",
    "from src.backbone import Transformer\n",
    "from src.factory import DynamicEmbedding\n",
    "from src.utils import posemb_sincos_2d_with_gsd\n",
    "\n",
    "torch.set_float32_matmul_precision(\"medium\")\n",
    "os.environ[\"TORCH_CUDNN_V8_API_DISABLED\"] = \"1\"\n",
    "\n",
    "import contextily as cx\n",
    "import rasterio\n",
    "from rasterio.plot import show\n",
    "\n",
    "from shapely.geometry import box\n",
    "\n",
    "import sklearn\n",
    "\n",
    "from sklearn.neural_network import MLPClassifier\n",
    "from sklearn.model_selection import train_test_split\n",
    "from shapely import wkb\n",
    "\n",
    "import stackstac\n",
    "import pystac_client\n",
    "import numpy as np\n",
    "import dask\n",
    "from rasterio.enums import Resampling\n",
    "from rasterstats import zonal_stats\n",
    "import xarray as xr\n",
    "import rioxarray as rxr\n",
    "\n",
    "import torch.nn as nn\n",
    "\n",
    "import shapely\n",
    "from rasterio.features import rasterize\n",
    "from torch.utils.data import Dataset\n",
    "from torch.utils.data import DataLoader\n",
    "import torch.nn.functional as F\n",
    "import torch.optim as optim\n",
    "\n",
    "\n",
    "from sklearn.metrics import precision_score, recall_score, f1_score, accuracy_score\n",
    "from sklearn.metrics import confusion_matrix, roc_curve, precision_recall_curve\n",
    "\n",
    "import seaborn as sns\n",
    "\n",
    "warnings.filterwarnings(\"ignore\")"
   ]
  },
  {
   "cell_type": "markdown",
   "metadata": {},
   "source": [
    "### Get embeddings for a given region"
   ]
  },
  {
   "cell_type": "code",
   "execution_count": null,
   "metadata": {},
   "outputs": [
    {
     "name": "stdout",
     "output_type": "stream",
     "text": [
      "Number of embeddings: 1933\n",
      "{\"$schema\": \"https://proj.org/schemas/v0.7/projjson.schema.json\", \"type\": \"GeographicCRS\", \"name\": \"WGS 84\", \"datum_ensemble\": {\"name\": \"World Geodetic System 1984 ensemble\", \"members\": [{\"name\": \"World Geodetic System 1984 (Transit)\"}, {\"name\": \"World Geodetic System 1984 (G730)\"}, {\"name\": \"World Geodetic System 1984 (G873)\"}, {\"name\": \"World Geodetic System 1984 (G1150)\"}, {\"name\": \"World Geodetic System 1984 (G1674)\"}, {\"name\": \"World Geodetic System 1984 (G1762)\"}, {\"name\": \"World Geodetic System 1984 (G2139)\"}, {\"name\": \"World Geodetic System 1984 (G2296)\"}], \"ellipsoid\": {\"name\": \"WGS 84\", \"semi_major_axis\": 6378137, \"inverse_flattening\": 298.257223563}, \"accuracy\": \"2.0\", \"id\": {\"authority\": \"EPSG\", \"code\": 6326}}, \"coordinate_system\": {\"subtype\": \"ellipsoidal\", \"axis\": [{\"name\": \"Geodetic latitude\", \"abbreviation\": \"Lat\", \"direction\": \"north\", \"unit\": \"degree\"}, {\"name\": \"Geodetic longitude\", \"abbreviation\": \"Lon\", \"direction\": \"east\", \"unit\": \"degree\"}]}, \"scope\": \"Horizontal component of 3D system.\", \"area\": \"World.\", \"bbox\": {\"south_latitude\": -90, \"west_longitude\": -180, \"north_latitude\": 90, \"east_longitude\": 180}, \"id\": {\"authority\": \"EPSG\", \"code\": 4326}}\n"
     ]
    }
   ],
   "source": [
    "# Read in embeddings for a given region\n",
    "embeddings = gpd.read_parquet('data/ga_256_2022-06-01_2022-08-31_tile_embeddings_final_1933.parquet')\n",
    "aoi = embeddings.geometry.unary_union # Get AOI that embeddings cover\n",
    "\n",
    "print(f'Number of embeddings: {len(embeddings)}')\n",
    "print(embeddings.crs)"
   ]
  },
  {
   "cell_type": "markdown",
   "metadata": {},
   "source": [
    "#### Label embeddings with presence or absence of pit lake"
   ]
  },
  {
   "cell_type": "markdown",
   "metadata": {},
   "source": [
    "##### Get labeled pit lakes from Aquarry QA dataset\n"
   ]
  },
  {
   "cell_type": "code",
   "execution_count": 26,
   "metadata": {},
   "outputs": [
    {
     "name": "stdout",
     "output_type": "stream",
     "text": [
      "Features confirmed as pit lakes or questionable during QA: 279\n"
     ]
    }
   ],
   "source": [
    "# Load Aquarry QA'ed data\n",
    "psql_bboxes = gpd.read_file('data/aquarry_psql_layer.csv')\n",
    "psql_bboxes = gpd.GeoDataFrame(psql_bboxes,geometry = psql_bboxes['field_8'].apply(wkb.loads),crs='epsg:4326') # Convert WKB geometry\n",
    "\n",
    "psql_bboxes.columns = ['cc', 'objectid', 'score', 'label', 'dataset', 'area', 'volume', 'wkb_geometry','field_9', 'category', 'field_11', 'geometry']\n",
    "\n",
    "# Get confirmed pit lakes in the given AOI\n",
    "aoi_bboxes = psql_bboxes[psql_bboxes.geometry.intersects(aoi)]\n",
    "print(f'Features confirmed as pit lakes or questionable during QA: {(aoi_bboxes['category'].isin(['a', 'q'])).sum()}')\n",
    "\n",
    "# Ensure CRS alignment\n",
    "crs = embeddings.crs \n",
    "aoi_bboxes = aoi_bboxes.to_crs(crs)"
   ]
  },
  {
   "cell_type": "markdown",
   "metadata": {},
   "source": [
    "##### Label embeddings"
   ]
  },
  {
   "cell_type": "code",
   "execution_count": 8,
   "metadata": {},
   "outputs": [],
   "source": [
    "# Define function that marks each chip in intersecting set of images as True if intersects chip embedding, False if not\n",
    "\n",
    "def LabelEmbeddings1_5(embeddings, polygons):\n",
    "    \"\"\" Create GeoDataFrame that takes image files with intersection with polygon of interest and returns only positive chips and marks True and \n",
    "    takes images without intersection and mark all chips as False or returns only chips that intersect with polygons2\n",
    "    \n",
    "    Helpful if there may be false negatives within the image with intersecting polygons\n",
    "    \n",
    "    Parameters:\n",
    "    embeddings (GeoDataFrame): positive chip embeddings\n",
    "    polygons (GeoDataFrame): pit lakes intersecting with the given AOI\n",
    "    \n",
    "    Returns:\n",
    "    data_flat (GeoDataFrame): embedding chips with positive and negative labels\n",
    "\n",
    "    \"\"\"\n",
    "    data = gpd.GeoDataFrame()\n",
    "\n",
    "    data = gpd.sjoin(embeddings, polygons, predicate='intersects',how = 'left',rsuffix=\"_1\")\n",
    "    data['mine'] = 0 # Initialize column\n",
    "    data.loc[~data['index__1'].isna(), 'mine'] = 1 # Assign 1 if intersects with pit lakes\n",
    "\n",
    "    # If chips have both pit lakes and lakes, they will appear multiple times in data. \n",
    "    # Mark chip as positive if it has at least one pit lake, and drop duplicates.\n",
    "\n",
    "    # Drop duplicates if you want to keep only one row per index\n",
    "    data = data.drop_duplicates(subset=['geometry'])\n",
    "\n",
    "    print(f'Number of positive samples: {(data['mine'] == 1).sum()}') \n",
    "\n",
    "    # Flatten embedding to an array of length 1024\n",
    "    data_flat = data.reset_index(drop = True)\n",
    "    for idx in list(data_flat.index):\n",
    "        data_flat.at[idx,'embedding'] = data_flat.loc[idx,'embedding'][0]\n",
    "\n",
    "    return data_flat"
   ]
  },
  {
   "cell_type": "code",
   "execution_count": 9,
   "metadata": {},
   "outputs": [
    {
     "name": "stdout",
     "output_type": "stream",
     "text": [
      "Number of positive samples: 231\n"
     ]
    }
   ],
   "source": [
    "# Label chips with pit lakes\n",
    "data = LabelEmbeddings1_5(embeddings, aoi_bboxes)"
   ]
  },
  {
   "cell_type": "markdown",
   "metadata": {},
   "source": [
    "### Run MLP classifier model on embeddings"
   ]
  },
  {
   "cell_type": "markdown",
   "metadata": {},
   "source": [
    "##### Create embedding dataset"
   ]
  },
  {
   "cell_type": "code",
   "execution_count": 15,
   "metadata": {},
   "outputs": [],
   "source": [
    "# Define model dataset class\n",
    "class MLPDataset(Dataset):\n",
    "    def __init__(self, embeddings, labels):\n",
    "        \"\"\"\n",
    "        Args:\n",
    "            embeddings (torch.Tensor): Input embeddings with shape (num_samples, 1024).\n",
    "            labels (torch.Tensor): Labels with shape (num_samples,).\n",
    "        \"\"\"\n",
    "        self.data = torch.tensor(embeddings, dtype=torch.float32)\n",
    "        self.labels = torch.tensor(labels, dtype=torch.float32)\n",
    "\n",
    "    def __len__(self):\n",
    "        return len(self.data)\n",
    "\n",
    "    def __getitem__(self, idx):\n",
    "        return self.data[idx], self.labels[idx]\n"
   ]
  },
  {
   "cell_type": "code",
   "execution_count": 20,
   "metadata": {},
   "outputs": [],
   "source": [
    "embeddings_array = data['embedding']\n",
    "labels_array = data['mine']\n",
    "\n",
    "embs_dataset = MLPDataset(embeddings_array, labels_array)  \n",
    "dataset_loader = DataLoader(embs_dataset, batch_size=1, shuffle=False)  # Batch size = 1 for per-sample evaluation"
   ]
  },
  {
   "cell_type": "markdown",
   "metadata": {},
   "source": [
    "##### Run model"
   ]
  },
  {
   "cell_type": "code",
   "execution_count": 12,
   "metadata": {},
   "outputs": [],
   "source": [
    "# Define model architecture\n",
    "class MLPBinaryClassifier(nn.Module):\n",
    "    def __init__(self, input_size=1024, hidden_sizes=[512, 256], output_size=1):\n",
    "        super(MLPBinaryClassifier, self).__init__()\n",
    "        \n",
    "        # Define the layers of the MLP\n",
    "        self.hidden_layers = nn.ModuleList()\n",
    "        prev_size = input_size\n",
    "        for hidden_size in hidden_sizes:\n",
    "            self.hidden_layers.append(nn.Linear(prev_size, hidden_size))\n",
    "            prev_size = hidden_size\n",
    "        \n",
    "        # Output layer\n",
    "        self.output_layer = nn.Linear(prev_size, output_size)\n",
    "\n",
    "    def forward(self, x):\n",
    "        # Pass input through each hidden layer with ReLU activation\n",
    "        for layer in self.hidden_layers:\n",
    "            x = F.relu(layer(x))\n",
    "        \n",
    "        # Pass through the output layer and apply sigmoid for binary classification\n",
    "        x = torch.sigmoid(self.output_layer(x))\n",
    "        return x"
   ]
  },
  {
   "cell_type": "code",
   "execution_count": 14,
   "metadata": {},
   "outputs": [
    {
     "data": {
      "text/plain": [
       "MLPBinaryClassifier(\n",
       "  (hidden_layers): ModuleList(\n",
       "    (0): Linear(in_features=1024, out_features=512, bias=True)\n",
       "    (1): Linear(in_features=512, out_features=256, bias=True)\n",
       "  )\n",
       "  (output_layer): Linear(in_features=256, out_features=1, bias=True)\n",
       ")"
      ]
     },
     "execution_count": 14,
     "metadata": {},
     "output_type": "execute_result"
    }
   ],
   "source": [
    "# Load model\n",
    "device = torch.device('cuda' if torch.cuda.is_available() else 'cpu')\n",
    "\n",
    "model = MLPBinaryClassifier()\n",
    "model.load_state_dict(torch.load(\"pit_lake_clf.pth\"))\n",
    "model.to(device)"
   ]
  },
  {
   "cell_type": "code",
   "execution_count": 21,
   "metadata": {},
   "outputs": [],
   "source": [
    "# Predict pit lakes from embeddings\n",
    "\n",
    "model.eval()\n",
    "criterion = nn.BCELoss(reduction='mean') \n",
    "\n",
    "prediction_losses = []\n",
    "all_ground_truths = []\n",
    "all_predictions = []\n",
    "all_predicted_outputs = []\n",
    "threshold = 0.5  # Adjust this threshold to toggle precision/recall\n",
    "\n",
    "for inputs, labels in dataset_loader:\n",
    "    inputs, labels = inputs.to(device), labels.to(device)\n",
    "    \n",
    "    # Run inference (no gradients needed for inference)\n",
    "    with torch.no_grad():\n",
    "        predicted_outputs = model(inputs).squeeze()  # Predicted probability\n",
    "        labels = labels.squeeze()\n",
    "        predictions = (predicted_outputs > threshold).float() \n",
    "        \n",
    "        # Compute loss\n",
    "        loss = criterion(predicted_outputs, labels)\n",
    "\n",
    "        prediction_losses.append(loss.item())\n",
    "        all_predicted_outputs.append(predicted_outputs)\n",
    "        \n",
    "        # Collect results\n",
    "        all_predictions.append(predictions)\n",
    "        all_ground_truths.append(labels)"
   ]
  },
  {
   "cell_type": "markdown",
   "metadata": {},
   "source": [
    "#### Evaluate results"
   ]
  },
  {
   "cell_type": "code",
   "execution_count": 22,
   "metadata": {},
   "outputs": [
    {
     "name": "stdout",
     "output_type": "stream",
     "text": [
      "Precision on test set: 0.6945\n",
      "Recall on test set: 0.8268\n",
      "Accuracy on test set: 0.9359\n",
      "F1 score on test set: 0.7549\n",
      "Total chips: 1933\n",
      "True positives: 231.0\n",
      "Predicted positives: 275.0\n"
     ]
    },
    {
     "data": {
      "image/png": "[encoded data removed]",
      "text/plain": [
       "<Figure size 600x500 with 1 Axes>"
      ]
     },
     "metadata": {},
     "output_type": "display_data"
    }
   ],
   "source": [
    "# Convert to numpy arrays for metric computation\n",
    "all_predictions = np.array(all_predictions)\n",
    "all_ground_truths = np.array(all_ground_truths)\n",
    "all_predicted_outputs = np.array(all_predicted_outputs)\n",
    "\n",
    "# Compute metrics\n",
    "precision = precision_score(all_ground_truths, all_predictions, average='binary')\n",
    "recall = recall_score(all_ground_truths, all_predictions, average='binary')\n",
    "f1 = f1_score(all_ground_truths, all_predictions, average='binary')\n",
    "accuracy = accuracy_score(all_ground_truths, all_predictions)\n",
    "\n",
    "print(f\"Precision on test set: {precision:.4f}\")\n",
    "print(f\"Recall on test set: {recall:.4f}\")\n",
    "print(f'Accuracy on test set: {accuracy:.4f}')\n",
    "print(f\"F1 score on test set: {f1:.4f}\")\n",
    "print(f'Total chips: {len(all_ground_truths)}')\n",
    "print(f'True positives: {all_ground_truths.sum()}')\n",
    "print(f'Predicted positives: {all_predictions.sum()}')\n",
    "\n",
    "# Confusion Matrix\n",
    "cm = sklearn.metrics.confusion_matrix(all_ground_truths, all_predictions)\n",
    "\n",
    "plt.figure(figsize=(6, 5))\n",
    "sns.heatmap(cm, annot=True, fmt='d', cmap='Blues', cbar=False)\n",
    "plt.xlabel('Predicted')\n",
    "plt.ylabel('Actual')\n",
    "plt.title('Confusion Matrix')\n",
    "plt.show()\n"
   ]
  },
  {
   "cell_type": "markdown",
   "metadata": {},
   "source": [
    "### Filter chips by NDWI to get likely pit lake polygons"
   ]
  },
  {
   "cell_type": "markdown",
   "metadata": {},
   "source": []
  },
  {
   "cell_type": "markdown",
   "metadata": {},
   "source": [
    "##### Save pit lake polygons as CSV"
   ]
  }
 ],
 "metadata": {
  "kernelspec": {
   "display_name": "Python 3",
   "language": "python",
   "name": "python3"
  },
  "language_info": {
   "codemirror_mode": {
    "name": "ipython",
    "version": 3
   },
   "file_extension": ".py",
   "mimetype": "text/x-python",
   "name": "python",
   "nbconvert_exporter": "python",
   "pygments_lexer": "ipython3",
   "version": "3.12.4"
  }
 },
 "nbformat": 4,
 "nbformat_minor": 2
}
